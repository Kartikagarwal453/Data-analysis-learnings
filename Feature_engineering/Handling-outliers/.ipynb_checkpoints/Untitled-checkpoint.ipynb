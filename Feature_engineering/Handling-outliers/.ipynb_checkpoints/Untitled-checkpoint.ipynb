{
 "cells": [
  {
   "cell_type": "markdown",
   "id": "37673289-63fd-43df-9fc2-ad278cf3d04a",
   "metadata": {},
   "source": [
    "# 5 Number summary and Box plot"
   ]
  },
  {
   "cell_type": "markdown",
   "id": "b5d68f4c-a88a-437c-868a-bf7f5303de61",
   "metadata": {},
   "source": [
    "## Min , Max , Median , Q1 , Q3 , IQR"
   ]
  },
  {
   "cell_type": "code",
   "execution_count": 18,
   "id": "3bdf2cbb-9441-455a-aa47-177376caffbd",
   "metadata": {},
   "outputs": [],
   "source": [
    "import numpy as np\n",
    "import seaborn as sns"
   ]
  },
  {
   "cell_type": "code",
   "execution_count": 26,
   "id": "e0ddc915-d370-4f56-bc03-6561b3ccff07",
   "metadata": {},
   "outputs": [],
   "source": [
    "lst_marks = [-100,1,2,45,32,56,75,89,54,32,89,90,87,67,54,45,98,99,67,74,100,101,200]\n",
    "minimum , Q1 , median , Q3 , maximum = np.quantile(lst_marks,[0,0.25,0.50,0.75,1.0])"
   ]
  },
  {
   "cell_type": "code",
   "execution_count": 7,
   "id": "695b3e0f-25e1-4530-9815-c61dad60938d",
   "metadata": {},
   "outputs": [
    {
     "data": {
      "text/plain": [
       "(32.0, 54.0, 67.0, 89.0, 99.0)"
      ]
     },
     "execution_count": 7,
     "metadata": {},
     "output_type": "execute_result"
    }
   ],
   "source": [
    "minimum , Q1 , median , Q3 , maximum"
   ]
  },
  {
   "cell_type": "code",
   "execution_count": 10,
   "id": "7a83c62a-7d9c-4249-8889-c43147c4c32d",
   "metadata": {},
   "outputs": [
    {
     "name": "stdout",
     "output_type": "stream",
     "text": [
      "35.0\n"
     ]
    }
   ],
   "source": [
    "IQR = Q3-Q1\n",
    "print(IQR)"
   ]
  },
  {
   "cell_type": "code",
   "execution_count": 14,
   "id": "ab8d4135-6551-4ceb-bcc5-36dbc4e32b06",
   "metadata": {},
   "outputs": [],
   "source": [
    "lower_fence = Q1 - 1.5*(IQR)\n",
    "higher_fence = Q3 + 1.5*(IQR)"
   ]
  },
  {
   "cell_type": "code",
   "execution_count": 15,
   "id": "d95c5f87-91f4-4e0c-b06d-4c6842533f15",
   "metadata": {},
   "outputs": [
    {
     "data": {
      "text/plain": [
       "1.5"
      ]
     },
     "execution_count": 15,
     "metadata": {},
     "output_type": "execute_result"
    }
   ],
   "source": [
    "lower_fence"
   ]
  },
  {
   "cell_type": "code",
   "execution_count": 16,
   "id": "af24211a-820c-4e7c-a215-1120bd6b7724",
   "metadata": {},
   "outputs": [
    {
     "data": {
      "text/plain": [
       "141.5"
      ]
     },
     "execution_count": 16,
     "metadata": {},
     "output_type": "execute_result"
    }
   ],
   "source": [
    "higher_fence"
   ]
  },
  {
   "cell_type": "code",
   "execution_count": 27,
   "id": "8052cfdb-0811-44a8-a45f-b21f18169e5d",
   "metadata": {},
   "outputs": [
    {
     "data": {
      "text/plain": [
       "<Axes: >"
      ]
     },
     "execution_count": 27,
     "metadata": {},
     "output_type": "execute_result"
    },
    {
     "data": {
      "image/png": "[encoded data removed]",
      "text/plain": [
       "<Figure size 640x480 with 1 Axes>"
      ]
     },
     "metadata": {},
     "output_type": "display_data"
    }
   ],
   "source": [
    "sns.boxplot(lst_marks)"
   ]
  },
  {
   "cell_type": "code",
   "execution_count": null,
   "id": "7a2fcaf4-15a3-444e-b272-9792612b48fa",
   "metadata": {},
   "outputs": [],
   "source": []
  }
 ],
 "metadata": {
  "kernelspec": {
   "display_name": "Python 3 (ipykernel)",
   "language": "python",
   "name": "python3"
  },
  "language_info": {
   "codemirror_mode": {
    "name": "ipython",
    "version": 3
   },
   "file_extension": ".py",
   "mimetype": "text/x-python",
   "name": "python",
   "nbconvert_exporter": "python",
   "pygments_lexer": "ipython3",
   "version": "3.12.7"
  }
 },
 "nbformat": 4,
 "nbformat_minor": 5
}
